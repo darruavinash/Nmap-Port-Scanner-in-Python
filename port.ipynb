{
 "cells": [
  {
   "cell_type": "code",
   "id": "initial_id",
   "metadata": {
    "collapsed": true,
    "ExecuteTime": {
     "end_time": "2025-06-17T01:23:40.035866Z",
     "start_time": "2025-06-17T01:23:32.407588Z"
    }
   },
   "source": [
    "#SYN Scanning\n",
    "#UDP Scan\n",
    "#Comprehensive\n",
    "\n",
    "import subprocess\n",
    "import nmap\n",
    "import socket\n",
    "\n",
    "\n",
    "scanner = nmap.PortScanner()\n",
    "print(\"Welcome to our NMAP Port scanner\")\n",
    "print(\"<-------------------------------------------------->\")\n",
    "ip_addr = input(\"Please enter the IP address to scan: \")\n",
    "print(\"The IP address is : \" , ip_addr)\n",
    "type(ip_addr)\n",
    "resp = input(\"\"\"\\n Please enter the type of scan you want to perform\n",
    "              1. SYN ACK scan\n",
    "              2.UDP scan\n",
    "              3.Comprehensive scan\\n\"\"\")\n",
    "print(\"you have selected option:\",resp)\n",
    "if resp == '1':\n",
    "    print(\"Nmap Version : \",scanner.nmap_version())\n",
    "    scanner.scan(ip_addr, '1-1024', '-v -T4')\n",
    "\n",
    "    print(scanner.scaninfo())\n",
    "    print(\"IP status :\",scanner[ip_addr].state())\n",
    "    print(scanner[ip_addr].all_protocols())\n",
    "    print(\"Open Ports:\",scanner[ip_addr]['tcp'].keys())\n",
    "elif resp == '2':\n",
    "    print(\"Nmap Version : \",scanner.nmap_version())\n",
    "    scanner.scan(ip_addr, '1-1024', '-v -sU')\n",
    "    print(scanner.scaninfo())\n",
    "    print(\"IP status :\",scanner[ip_addr].state())\n",
    "    print(scanner[ip_addr].all_protocols())\n",
    "    print(\"Open Ports: \", scanner[ip_addr]['udp'].keys())\n",
    "elif resp =='3':\n",
    "    print(\"Nmap Version : \",scanner.nmap_version())\n",
    "    scanner.scan(ip_addr, '1-1024', '-v -sS -sV -sC -A -O')\n",
    "    print(scanner.scaninfo())\n",
    "    print(\"IP status :\",scanner[ip_addr].state())\n",
    "    print(scanner[ip_addr].all_protocols())\n",
    "    print(\"Open Ports:\",scanner[ip_addr]['tcp'].keys())\n",
    "elif resp >= 4:\n",
    "    print(\"Invalid\")"
   ],
   "outputs": [
    {
     "name": "stdout",
     "output_type": "stream",
     "text": [
      "Welcome to our NMAP Port scanner\n",
      "<-------------------------------------------------->\n"
     ]
    },
    {
     "ename": "KeyboardInterrupt",
     "evalue": "Interrupted by user",
     "output_type": "error",
     "traceback": [
      "\u001B[0;31m---------------------------------------------------------------------------\u001B[0m",
      "\u001B[0;31mKeyboardInterrupt\u001B[0m                         Traceback (most recent call last)",
      "Cell \u001B[0;32mIn[51], line 13\u001B[0m\n\u001B[1;32m     11\u001B[0m \u001B[38;5;28mprint\u001B[39m(\u001B[38;5;124m\"\u001B[39m\u001B[38;5;124mWelcome to our NMAP Port scanner\u001B[39m\u001B[38;5;124m\"\u001B[39m)\n\u001B[1;32m     12\u001B[0m \u001B[38;5;28mprint\u001B[39m(\u001B[38;5;124m\"\u001B[39m\u001B[38;5;124m<-------------------------------------------------->\u001B[39m\u001B[38;5;124m\"\u001B[39m)\n\u001B[0;32m---> 13\u001B[0m ip_addr \u001B[38;5;241m=\u001B[39m \u001B[38;5;28minput\u001B[39m(\u001B[38;5;124m\"\u001B[39m\u001B[38;5;124mPlease enter the IP address to scan: \u001B[39m\u001B[38;5;124m\"\u001B[39m)\n\u001B[1;32m     14\u001B[0m \u001B[38;5;28mprint\u001B[39m(\u001B[38;5;124m\"\u001B[39m\u001B[38;5;124mThe IP address is : \u001B[39m\u001B[38;5;124m\"\u001B[39m , ip_addr)\n\u001B[1;32m     15\u001B[0m \u001B[38;5;28mtype\u001B[39m(ip_addr)\n",
      "File \u001B[0;32m~/miniconda3/lib/python3.12/site-packages/ipykernel/kernelbase.py:1282\u001B[0m, in \u001B[0;36mKernel.raw_input\u001B[0;34m(self, prompt)\u001B[0m\n\u001B[1;32m   1280\u001B[0m     msg \u001B[38;5;241m=\u001B[39m \u001B[38;5;124m\"\u001B[39m\u001B[38;5;124mraw_input was called, but this frontend does not support input requests.\u001B[39m\u001B[38;5;124m\"\u001B[39m\n\u001B[1;32m   1281\u001B[0m     \u001B[38;5;28;01mraise\u001B[39;00m StdinNotImplementedError(msg)\n\u001B[0;32m-> 1282\u001B[0m \u001B[38;5;28;01mreturn\u001B[39;00m \u001B[38;5;28mself\u001B[39m\u001B[38;5;241m.\u001B[39m_input_request(\n\u001B[1;32m   1283\u001B[0m     \u001B[38;5;28mstr\u001B[39m(prompt),\n\u001B[1;32m   1284\u001B[0m     \u001B[38;5;28mself\u001B[39m\u001B[38;5;241m.\u001B[39m_parent_ident[\u001B[38;5;124m\"\u001B[39m\u001B[38;5;124mshell\u001B[39m\u001B[38;5;124m\"\u001B[39m],\n\u001B[1;32m   1285\u001B[0m     \u001B[38;5;28mself\u001B[39m\u001B[38;5;241m.\u001B[39mget_parent(\u001B[38;5;124m\"\u001B[39m\u001B[38;5;124mshell\u001B[39m\u001B[38;5;124m\"\u001B[39m),\n\u001B[1;32m   1286\u001B[0m     password\u001B[38;5;241m=\u001B[39m\u001B[38;5;28;01mFalse\u001B[39;00m,\n\u001B[1;32m   1287\u001B[0m )\n",
      "File \u001B[0;32m~/miniconda3/lib/python3.12/site-packages/ipykernel/kernelbase.py:1325\u001B[0m, in \u001B[0;36mKernel._input_request\u001B[0;34m(self, prompt, ident, parent, password)\u001B[0m\n\u001B[1;32m   1322\u001B[0m \u001B[38;5;28;01mexcept\u001B[39;00m \u001B[38;5;167;01mKeyboardInterrupt\u001B[39;00m:\n\u001B[1;32m   1323\u001B[0m     \u001B[38;5;66;03m# re-raise KeyboardInterrupt, to truncate traceback\u001B[39;00m\n\u001B[1;32m   1324\u001B[0m     msg \u001B[38;5;241m=\u001B[39m \u001B[38;5;124m\"\u001B[39m\u001B[38;5;124mInterrupted by user\u001B[39m\u001B[38;5;124m\"\u001B[39m\n\u001B[0;32m-> 1325\u001B[0m     \u001B[38;5;28;01mraise\u001B[39;00m \u001B[38;5;167;01mKeyboardInterrupt\u001B[39;00m(msg) \u001B[38;5;28;01mfrom\u001B[39;00m \u001B[38;5;28;01mNone\u001B[39;00m\n\u001B[1;32m   1326\u001B[0m \u001B[38;5;28;01mexcept\u001B[39;00m \u001B[38;5;167;01mException\u001B[39;00m:\n\u001B[1;32m   1327\u001B[0m     \u001B[38;5;28mself\u001B[39m\u001B[38;5;241m.\u001B[39mlog\u001B[38;5;241m.\u001B[39mwarning(\u001B[38;5;124m\"\u001B[39m\u001B[38;5;124mInvalid Message:\u001B[39m\u001B[38;5;124m\"\u001B[39m, exc_info\u001B[38;5;241m=\u001B[39m\u001B[38;5;28;01mTrue\u001B[39;00m)\n",
      "\u001B[0;31mKeyboardInterrupt\u001B[0m: Interrupted by user"
     ]
    }
   ],
   "execution_count": 51
  },
  {
   "metadata": {
    "ExecuteTime": {
     "end_time": "2025-05-05T21:16:55.000349Z",
     "start_time": "2025-05-05T21:16:54.881673Z"
    }
   },
   "cell_type": "code",
   "source": "",
   "id": "5b8d877e1ee532d",
   "outputs": [],
   "execution_count": null
  },
  {
   "metadata": {
    "ExecuteTime": {
     "end_time": "2025-05-05T18:48:55.068974Z",
     "start_time": "2025-05-05T18:48:55.064779Z"
    }
   },
   "cell_type": "code",
   "source": "",
   "id": "306518968adc0a50",
   "outputs": [],
   "execution_count": null
  },
  {
   "metadata": {},
   "cell_type": "code",
   "outputs": [],
   "execution_count": null,
   "source": "",
   "id": "299f457c7bf8733"
  }
 ],
 "metadata": {
  "kernelspec": {
   "display_name": "Python 3",
   "language": "python",
   "name": "python3"
  },
  "language_info": {
   "codemirror_mode": {
    "name": "ipython",
    "version": 2
   },
   "file_extension": ".py",
   "mimetype": "text/x-python",
   "name": "python",
   "nbconvert_exporter": "python",
   "pygments_lexer": "ipython2",
   "version": "2.7.6"
  }
 },
 "nbformat": 4,
 "nbformat_minor": 5
}
