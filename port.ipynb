{
 "cells": [
  {
   "cell_type": "code",
   "id": "initial_id",
   "metadata": {
    "collapsed": true,
    "ExecuteTime": {
     "end_time": "2025-06-17T01:49:09.722922Z",
     "start_time": "2025-06-17T01:48:56.571380Z"
    }
   },
   "source": [
    "#SYN Scanning\n",
    "#UDP Scan\n",
    "#Comprehensive\n",
    "\n",
    "import subprocess\n",
    "import nmap\n",
    "import socket\n",
    "\n",
    "\n",
    "scanner = nmap.PortScanner()\n",
    "print(\"Welcome to our NMAP Port scanner\")\n",
    "print(\"<-------------------------------------------------->\")\n",
    "ip_addr = input(\"Please enter the IP address to scan: \")\n",
    "print(\"The IP address is : \" , ip_addr)\n",
    "type(ip_addr)\n",
    "resp = input(\"\"\"\\n Please enter the type of scan you want to perform\n",
    "              1. SYN ACK scan\n",
    "              2.UDP scan\n",
    "              3.Comprehensive scan\\n\"\"\")\n",
    "print(\"you have selected option:\",resp)\n",
    "if resp == '1':\n",
    "    print(\"Nmap Version : \",scanner.nmap_version())\n",
    "    scanner.scan(ip_addr, '1-1024', '-v -T4')\n",
    "\n",
    "    print(scanner.scaninfo())\n",
    "    print(\"IP status :\",scanner[ip_addr].state())\n",
    "    print(scanner[ip_addr].all_protocols())\n",
    "    print(\"Open Ports:\",scanner[ip_addr]['tcp'].keys())\n",
    "elif resp == '2':\n",
    "    print(\"Nmap Version : \",scanner.nmap_version())\n",
    "    scanner.scan(ip_addr, '1-1024', '-v -sU')\n",
    "    print(scanner.scaninfo())\n",
    "    print(\"IP status :\",scanner[ip_addr].state())\n",
    "    print(scanner[ip_addr].all_protocols())\n",
    "    print(\"Open Ports: \", scanner[ip_addr]['udp'].keys())\n",
    "elif resp =='3':\n",
    "    print(\"Nmap Version : \",scanner.nmap_version())\n",
    "    scanner.scan(ip_addr, '1-1024', '-v -sS -sV -sC -A -O')\n",
    "    print(scanner.scaninfo())\n",
    "    print(\"IP status :\",scanner[ip_addr].state())\n",
    "    print(scanner[ip_addr].all_protocols())\n",
    "    print(\"Open Ports:\",scanner[ip_addr]['tcp'].keys())\n",
    "elif resp >= 4:\n",
    "    print(\"Invalid\")"
   ],
   "outputs": [
    {
     "name": "stdout",
     "output_type": "stream",
     "text": [
      "Welcome to our NMAP Port scanner\n",
      "<-------------------------------------------------->\n",
      "The IP address is :  192.168.1.1\n",
      "you have selected option: 1\n",
      "Nmap Version :  (7, 95)\n",
      "{'tcp': {'method': 'connect', 'services': '1-1024'}}\n",
      "IP status : up\n",
      "['tcp']\n",
      "Open Ports: dict_keys([53, 80, 443])\n"
     ]
    }
   ],
   "execution_count": 52
  },
  {
   "metadata": {
    "ExecuteTime": {
     "end_time": "2025-05-05T21:16:55.000349Z",
     "start_time": "2025-05-05T21:16:54.881673Z"
    }
   },
   "cell_type": "code",
   "source": "",
   "id": "5b8d877e1ee532d",
   "outputs": [],
   "execution_count": null
  },
  {
   "metadata": {
    "ExecuteTime": {
     "end_time": "2025-05-05T18:48:55.068974Z",
     "start_time": "2025-05-05T18:48:55.064779Z"
    }
   },
   "cell_type": "code",
   "source": "",
   "id": "306518968adc0a50",
   "outputs": [],
   "execution_count": null
  },
  {
   "metadata": {},
   "cell_type": "code",
   "outputs": [],
   "execution_count": null,
   "source": "",
   "id": "299f457c7bf8733"
  }
 ],
 "metadata": {
  "kernelspec": {
   "display_name": "Python 3",
   "language": "python",
   "name": "python3"
  },
  "language_info": {
   "codemirror_mode": {
    "name": "ipython",
    "version": 2
   },
   "file_extension": ".py",
   "mimetype": "text/x-python",
   "name": "python",
   "nbconvert_exporter": "python",
   "pygments_lexer": "ipython2",
   "version": "2.7.6"
  }
 },
 "nbformat": 4,
 "nbformat_minor": 5
}
